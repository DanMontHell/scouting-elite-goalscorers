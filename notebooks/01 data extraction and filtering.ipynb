{
 "cells": [
  {
   "metadata": {},
   "cell_type": "markdown",
   "source": "# Data Extraction and Filtering",
   "id": "6bb1dc1d6a202191"
  },
  {
   "metadata": {},
   "cell_type": "markdown",
   "source": "### Loading libraries and data",
   "id": "a1afa3e15e3e011"
  },
  {
   "metadata": {
    "ExecuteTime": {
     "end_time": "2025-05-28T07:50:27.706721Z",
     "start_time": "2025-05-28T07:50:27.695820Z"
    }
   },
   "cell_type": "code",
   "source": [
    "#Importing libraries for SQL\n",
    "import sqlite3\n",
    "\n",
    "#Libraries for basic data prep and eda\n",
    "import pandas as pd\n",
    "import numpy as np\n",
    "\n",
    "pd.set_option('display.max_columns', None)\n",
    "pd.set_option('display.width', 160)\n",
    "pd.set_option('display.max_colwidth', 30)"
   ],
   "id": "5f9b6f8f24fde8e0",
   "outputs": [],
   "execution_count": 38
  },
  {
   "metadata": {
    "ExecuteTime": {
     "end_time": "2025-05-28T07:39:04.448503Z",
     "start_time": "2025-05-28T07:39:04.444990Z"
    }
   },
   "cell_type": "code",
   "source": [
    "#Creating a database file\n",
    "conn = sqlite3.connect(\"players_data.db\")\n",
    "\n",
    "#Creating a cursor to execute SQL commands\n",
    "cursor = conn.cursor()"
   ],
   "id": "44255c175237ea70",
   "outputs": [],
   "execution_count": 26
  },
  {
   "metadata": {
    "ExecuteTime": {
     "end_time": "2025-05-28T07:39:05.607491Z",
     "start_time": "2025-05-28T07:39:05.471114Z"
    }
   },
   "cell_type": "code",
   "source": [
    "#Loading CSV file\n",
    "df = pd.read_csv(\"/Users/dan/Documents/Personal Projects/players_data-2024_2025.csv\")\n",
    "\n",
    "#Storing the data in an SQLite table\n",
    "df.to_sql(\"players\", conn, if_exists=\"replace\", index=False)"
   ],
   "id": "277c94be2026c457",
   "outputs": [
    {
     "data": {
      "text/plain": [
       "2854"
      ]
     },
     "execution_count": 27,
     "metadata": {},
     "output_type": "execute_result"
    }
   ],
   "execution_count": 27
  },
  {
   "metadata": {
    "ExecuteTime": {
     "end_time": "2025-05-28T07:39:06.777189Z",
     "start_time": "2025-05-28T07:39:06.743683Z"
    }
   },
   "cell_type": "code",
   "source": [
    "#Checking table\n",
    "query = \"SELECT * FROM players LIMIT 5;\"\n",
    "\n",
    "df_sql_preview = pd.read_sql(query, conn)\n",
    "print(df_sql_preview)"
   ],
   "id": "fb1c8084c099108",
   "outputs": [
    {
     "name": "stdout",
     "output_type": "stream",
     "text": [
      "   Rk             Player   Nation    Pos        Squad                Comp   Age    Born  MP  Starts  Min  90s  Gls  Ast  G+A  G-PK  PK  PKatt  CrdY  CrdR  \\\n",
      "0   1         Max Aarons  eng ENG     DF  Bournemouth  eng Premier League  25.0  2000.0   3       1   86  1.0    0    0    0     0   0      0     0     0   \n",
      "1   2         Max Aarons  eng ENG  DF,MF     Valencia          es La Liga  25.0  2000.0   4       1  120  1.3    0    0    0     0   0      0     2     0   \n",
      "2   3     Rodrigo Abajas   es ESP     DF     Valencia          es La Liga  22.0  2003.0   1       1   65  0.7    0    0    0     0   0      0     1     0   \n",
      "3   4     James Abankwah   ie IRL  DF,MF      Udinese          it Serie A  21.0  2004.0   6       0   88  1.0    0    0    0     0   0      0     1     0   \n",
      "4   5  Keyliane Abdallah   fr FRA     FW    Marseille          fr Ligue 1  19.0  2006.0   1       0    3  0.0    0    0    0     0   0      0     0     0   \n",
      "\n",
      "    xG  npxG  xAG  npxG+xAG  PrgC  PrgP  PrgR  G+A-PK  xG+xAG  Rk_stats_shooting Nation_stats_shooting Pos_stats_shooting Comp_stats_shooting  \\\n",
      "0  0.0   0.0  0.0       0.0     1     8     3     0.0    0.00                  1               eng ENG                 DF  eng Premier League   \n",
      "1  0.0   0.0  0.0       0.0     0     6    10     0.0    0.02                  2               eng ENG              DF,MF          es La Liga   \n",
      "2  0.1   0.1  0.0       0.1     3     2     3     0.0    0.10                  3                es ESP                 DF          es La Liga   \n",
      "3  0.1   0.1  0.0       0.1     3     4     1     0.0    0.06                  4                ie IRL              DF,MF          it Serie A   \n",
      "4  0.0   0.0  0.0       0.0     1     0     0     0.0    0.00                  5                fr FRA                 FW          fr Ligue 1   \n",
      "\n",
      "  Age_stats_shooting  Born_stats_shooting  90s_stats_shooting  Gls_stats_shooting  Sh  SoT  SoT%  Sh/90  SoT/90  G/Sh G/SoT  Dist  FK  PK_stats_shooting  \\\n",
      "0             25-142               2000.0                 1.0                   0   0    0   NaN   0.00     0.0   NaN  None   NaN   0                  0   \n",
      "1             25-142               2000.0                 1.3                   0   0    0   NaN   0.00     0.0   NaN  None   NaN   0                  0   \n",
      "2             22-014               2003.0                 0.7                   0   1    0   0.0   1.38     0.0   0.0  None  24.5   0                  0   \n",
      "3             21-130               2004.0                 1.0                   0   1    0   0.0   1.02     0.0   0.0  None  15.0   0                  0   \n",
      "4             19-051               2006.0                 0.0                   0   0    0   NaN   0.00     0.0   NaN  None   NaN   0                  0   \n",
      "\n",
      "   PKatt_stats_shooting  xG_stats_shooting  npxG_stats_shooting  npxG/Sh  G-xG  np:G-xG  Rk_stats_passing Nation_stats_passing Pos_stats_passing  \\\n",
      "0                     0                0.0                  0.0      NaN   0.0      0.0                 1              eng ENG                DF   \n",
      "1                     0                0.0                  0.0      NaN   0.0      0.0                 2              eng ENG             DF,MF   \n",
      "2                     0                0.1                  0.1     0.07  -0.1     -0.1                 3               es ESP                DF   \n",
      "3                     0                0.1                  0.1     0.06  -0.1     -0.1                 4               ie IRL             DF,MF   \n",
      "4                     0                0.0                  0.0      NaN   0.0      0.0                 5               fr FRA                FW   \n",
      "\n",
      "   Comp_stats_passing Age_stats_passing  Born_stats_passing  90s_stats_passing  Cmp  Att   Cmp%  TotDist  PrgDist  Ast_stats_passing  xAG_stats_passing   xA  \\\n",
      "0  eng Premier League            25-142              2000.0                1.0   50   63   79.4      887      361                  0                0.0  0.0   \n",
      "1          es La Liga            25-142              2000.0                1.3   47   66   71.2      705      190                  0                0.0  0.0   \n",
      "2          es La Liga            22-014              2003.0                0.7   17   29   58.6      268      110                  0                0.0  0.0   \n",
      "3          it Serie A            21-130              2004.0                1.0   36   46   78.3      614      206                  0                0.0  0.0   \n",
      "4          fr Ligue 1            19-051              2006.0                0.0    2    2  100.0       41        0                  0                0.0  0.0   \n",
      "\n",
      "   A-xAG  KP  1/3  PPA  CrsPA  PrgP_stats_passing  Rk_stats_passing_types Nation_stats_passing_types Pos_stats_passing_types Comp_stats_passing_types  \\\n",
      "0    0.0   0    8    0      0                   8                       1                    eng ENG                      DF       eng Premier League   \n",
      "1    0.0   1    2    0      0                   6                       2                    eng ENG                   DF,MF               es La Liga   \n",
      "2    0.0   0    0    0      0                   2                       3                     es ESP                      DF               es La Liga   \n",
      "3    0.0   0    2    0      0                   4                       4                     ie IRL                   DF,MF               it Serie A   \n",
      "4    0.0   0    0    0      0                   0                       5                     fr FRA                      FW               fr Ligue 1   \n",
      "\n",
      "  Age_stats_passing_types  Born_stats_passing_types  90s_stats_passing_types  Att_stats_passing_types  Live  Dead  FK_stats_passing_types  TB  Sw  Crs  TI  \\\n",
      "0                  25-142                    2000.0                      1.0                       63    51    12                       2   0   0    2  10   \n",
      "1                  25-142                    2000.0                      1.3                       66    54    12                       1   0   0    5  11   \n",
      "2                  22-014                    2003.0                      0.7                       29    21     8                       0   0   0    1   8   \n",
      "3                  21-130                    2004.0                      1.0                       46    45     1                       1   0   0    0   0   \n",
      "4                  19-051                    2006.0                      0.0                        2     2     0                       0   0   0    0   0   \n",
      "\n",
      "   CK  In  Out  Str  Cmp_stats_passing_types  Off  Blocks  Rk_stats_gca Nation_stats_gca Pos_stats_gca      Comp_stats_gca Age_stats_gca  Born_stats_gca  \\\n",
      "0   0   0    0    0                       50    0       1             1          eng ENG            DF  eng Premier League        25-142          2000.0   \n",
      "1   0   0    0    0                       47    0       1             2          eng ENG         DF,MF          es La Liga        25-142          2000.0   \n",
      "2   0   0    0    0                       17    0       2             3           es ESP            DF          es La Liga        22-014          2003.0   \n",
      "3   0   0    0    0                       36    0       0             4           ie IRL         DF,MF          it Serie A        21-130          2004.0   \n",
      "4   0   0    0    0                        2    0       0             5           fr FRA            FW          fr Ligue 1        19-051          2006.0   \n",
      "\n",
      "   90s_stats_gca  SCA  SCA90  PassLive  PassDead  TO  Sh_stats_gca  Fld  Def  GCA  GCA90  Rk_stats_defense Nation_stats_defense Pos_stats_defense  \\\n",
      "0            1.0    2   2.09         2         0   0             0    0    0    0    0.0                 1              eng ENG                DF   \n",
      "1            1.3    1   0.75         1         0   0             0    0    0    0    0.0                 2              eng ENG             DF,MF   \n",
      "2            0.7    0   0.00         0         0   0             0    0    0    0    0.0                 3               es ESP                DF   \n",
      "3            1.0    1   1.02         1         0   0             0    0    0    0    0.0                 4               ie IRL             DF,MF   \n",
      "4            0.0    0   0.00         0         0   0             0    0    0    0    0.0                 5               fr FRA                FW   \n",
      "\n",
      "   Comp_stats_defense Age_stats_defense  Born_stats_defense  90s_stats_defense  Tkl  TklW  Def 3rd  Mid 3rd  Att 3rd  Att_stats_defense   Tkl%  Lost  \\\n",
      "0  eng Premier League            25-142              2000.0                1.0    2     2        1        1        0                  1  100.0     0   \n",
      "1          es La Liga            25-142              2000.0                1.3    4     4        2        2        0                  5   80.0     1   \n",
      "2          es La Liga            22-014              2003.0                0.7    3     2        2        1        0                  3  100.0     0   \n",
      "3          it Serie A            21-130              2004.0                1.0    4     2        4        0        0                  3   66.7     1   \n",
      "4          fr Ligue 1            19-051              2006.0                0.0    1     1        1        0        0                  1  100.0     0   \n",
      "\n",
      "   Blocks_stats_defense  Sh_stats_defense  Pass  Int  Tkl+Int  Clr  Err  Rk_stats_possession Nation_stats_possession Pos_stats_possession  \\\n",
      "0                     3                 1     2    1        3    0    0                    1                 eng ENG                   DF   \n",
      "1                     1                 0     1    0        4    3    0                    2                 eng ENG                DF,MF   \n",
      "2                     1                 0     1    1        4    0    0                    3                  es ESP                   DF   \n",
      "3                     2                 1     1    1        5    3    0                    4                  ie IRL                DF,MF   \n",
      "4                     0                 0     0    0        1    0    0                    5                  fr FRA                   FW   \n",
      "\n",
      "  Comp_stats_possession Age_stats_possession  Born_stats_possession  90s_stats_possession  Touches  Def Pen  Def 3rd_stats_possession  \\\n",
      "0    eng Premier League               25-142                 2000.0                   1.0       73        2                        19   \n",
      "1            es La Liga               25-142                 2000.0                   1.3       85        1                        21   \n",
      "2            es La Liga               22-014                 2003.0                   0.7       36        1                         8   \n",
      "3            it Serie A               21-130                 2004.0                   1.0       65        8                        37   \n",
      "4            fr Ligue 1               19-051                 2006.0                   0.0        4        0                         3   \n",
      "\n",
      "   Mid 3rd_stats_possession  Att 3rd_stats_possession  Att Pen  Live_stats_possession  Att_stats_possession  Succ  Succ%  Tkld  Tkld%  Carries  \\\n",
      "0                        40                        15        0                     73                     2     0    0.0     1   50.0       41   \n",
      "1                        28                        36        0                     85                     4     1   25.0     2   50.0       46   \n",
      "2                        19                         9        1                     36                     1     1  100.0     0    0.0       13   \n",
      "3                        22                         7        2                     65                     0     0    NaN     0    NaN       29   \n",
      "4                         1                         0        0                      4                     0     0    NaN     0    NaN        1   \n",
      "\n",
      "   TotDist_stats_possession  PrgDist_stats_possession  PrgC_stats_possession  1/3_stats_possession  CPA  Mis  Dis  Rec  PrgR_stats_possession  \\\n",
      "0                       152                        68                      1                     0    0    1    0   40                      3   \n",
      "1                       215                       103                      0                     3    0    3    1   49                     10   \n",
      "2                       101                        67                      3                     2    1    0    2   16                      3   \n",
      "3                       219                       165                      3                     1    1    1    3   34                      1   \n",
      "4                        10                         9                      1                     0    0    1    0    3                      0   \n",
      "\n",
      "   Rk_stats_playing_time Nation_stats_playing_time Pos_stats_playing_time Comp_stats_playing_time Age_stats_playing_time  Born_stats_playing_time  \\\n",
      "0                      1                   eng ENG                     DF      eng Premier League                 25-142                   2000.0   \n",
      "1                      2                   eng ENG                  DF,MF              es La Liga                 25-142                   2000.0   \n",
      "2                      4                    es ESP                     DF              es La Liga                 22-014                   2003.0   \n",
      "3                      5                    ie IRL                  DF,MF              it Serie A                 21-130                   2004.0   \n",
      "4                      7                    fr FRA                     FW              fr Ligue 1                 19-051                   2006.0   \n",
      "\n",
      "   MP_stats_playing_time  Min_stats_playing_time  Mn/MP  Min%  90s_stats_playing_time  Starts_stats_playing_time  Mn/Start  Compl  Subs  Mn/Sub  unSub   PPM  \\\n",
      "0                      3                      86     29   2.5                     1.0                          1      61.0      0     2    13.0     11  0.67   \n",
      "1                      4                     120     30   3.5                     1.3                          1      73.0      0     3    16.0     14  0.75   \n",
      "2                      1                      65     65   1.9                     0.7                          1      65.0      0     0     NaN      8  0.00   \n",
      "3                      6                      88     15   2.6                     1.0                          0       NaN      0     6    15.0     12  1.67   \n",
      "4                      1                       3      3   0.1                     0.0                          0       NaN      0     1     3.0      7  3.00   \n",
      "\n",
      "   onG  onGA  +/-  +/-90  On-Off  onxG  onxGA  xG+/-  xG+/-90  Rk_stats_misc Nation_stats_misc Pos_stats_misc     Comp_stats_misc Age_stats_misc  \\\n",
      "0    2     0    2   2.09    1.82   2.3    0.3    2.0     2.12              1           eng ENG             DF  eng Premier League         25-142   \n",
      "1    1     3   -2  -1.50   -1.28   1.5    3.7   -2.3    -1.69              2           eng ENG          DF,MF          es La Liga         25-142   \n",
      "2    1     2   -1  -1.38   -1.14   1.4    0.7    0.7     0.93              3            es ESP             DF          es La Liga         22-014   \n",
      "3    2     0    2   2.05    2.50   0.6    1.5   -0.9    -0.91              4            ie IRL          DF,MF          it Serie A         21-130   \n",
      "4    0     0    0   0.00   -0.79   0.0    0.0    0.0    -0.49              5            fr FRA             FW          fr Ligue 1         19-051   \n",
      "\n",
      "   Born_stats_misc  90s_stats_misc  CrdY_stats_misc  CrdR_stats_misc  2CrdY  Fls  Fld_stats_misc  Off_stats_misc  Crs_stats_misc  Int_stats_misc  \\\n",
      "0           2000.0             1.0                0                0      0    0               2               0               2               1   \n",
      "1           2000.0             1.3                2                0      0    0               2               0               5               0   \n",
      "2           2003.0             0.7                1                0      0    2               0               1               1               1   \n",
      "3           2004.0             1.0                1                0      0    4               3               0               0               1   \n",
      "4           2006.0             0.0                0                0      0    0               0               0               0               0   \n",
      "\n",
      "   TklW_stats_misc  PKwon  PKcon  OG  Recov  Won  Lost_stats_misc  Won% Rk_stats_keeper Nation_stats_keeper Pos_stats_keeper Comp_stats_keeper  \\\n",
      "0                2      0      0   0      7    0                0   NaN            None                None             None              None   \n",
      "1                4      0      0   0      7    2                1  66.7            None                None             None              None   \n",
      "2                2      0      0   0      2    0                1   0.0            None                None             None              None   \n",
      "3                2      0      0   0      7    2                2  50.0            None                None             None              None   \n",
      "4                1      0      0   0      0    0                0   NaN            None                None             None              None   \n",
      "\n",
      "  Age_stats_keeper Born_stats_keeper MP_stats_keeper Starts_stats_keeper Min_stats_keeper 90s_stats_keeper    GA  GA90  SoTA Saves Save%     W     D     L  \\\n",
      "0             None              None            None                None             None             None  None  None  None  None  None  None  None  None   \n",
      "1             None              None            None                None             None             None  None  None  None  None  None  None  None  None   \n",
      "2             None              None            None                None             None             None  None  None  None  None  None  None  None  None   \n",
      "3             None              None            None                None             None             None  None  None  None  None  None  None  None  None   \n",
      "4             None              None            None                None             None             None  None  None  None  None  None  None  None  None   \n",
      "\n",
      "     CS   CS% PKatt_stats_keeper   PKA  PKsv   PKm Rk_stats_keeper_adv Nation_stats_keeper_adv Pos_stats_keeper_adv Comp_stats_keeper_adv  \\\n",
      "0  None  None               None  None  None  None                None                    None                 None                  None   \n",
      "1  None  None               None  None  None  None                None                    None                 None                  None   \n",
      "2  None  None               None  None  None  None                None                    None                 None                  None   \n",
      "3  None  None               None  None  None  None                None                    None                 None                  None   \n",
      "4  None  None               None  None  None  None                None                    None                 None                  None   \n",
      "\n",
      "  Age_stats_keeper_adv Born_stats_keeper_adv 90s_stats_keeper_adv GA_stats_keeper_adv PKA_stats_keeper_adv FK_stats_keeper_adv CK_stats_keeper_adv  \\\n",
      "0                 None                  None                 None                None                 None                None                None   \n",
      "1                 None                  None                 None                None                 None                None                None   \n",
      "2                 None                  None                 None                None                 None                None                None   \n",
      "3                 None                  None                 None                None                 None                None                None   \n",
      "4                 None                  None                 None                None                 None                None                None   \n",
      "\n",
      "  OG_stats_keeper_adv  PSxG PSxG/SoT PSxG+/-   /90 Cmp_stats_keeper_adv Att_stats_keeper_adv Cmp%_stats_keeper_adv Att (GK)   Thr Launch% AvgLen   Opp   Stp  \\\n",
      "0                None  None     None    None  None                 None                 None                  None     None  None    None   None  None  None   \n",
      "1                None  None     None    None  None                 None                 None                  None     None  None    None   None  None  None   \n",
      "2                None  None     None    None  None                 None                 None                  None     None  None    None   None  None  None   \n",
      "3                None  None     None    None  None                 None                 None                  None     None  None    None   None  None  None   \n",
      "4                None  None     None    None  None                 None                 None                  None     None  None    None   None  None  None   \n",
      "\n",
      "   Stp%  #OPA #OPA/90 AvgDist  \n",
      "0  None  None    None    None  \n",
      "1  None  None    None    None  \n",
      "2  None  None    None    None  \n",
      "3  None  None    None    None  \n",
      "4  None  None    None    None  \n"
     ]
    }
   ],
   "execution_count": 28
  },
  {
   "metadata": {},
   "cell_type": "markdown",
   "source": "### Filtering and aggregation",
   "id": "44ceef1b4595efc3"
  },
  {
   "metadata": {
    "ExecuteTime": {
     "end_time": "2025-05-28T07:39:09.176120Z",
     "start_time": "2025-05-28T07:39:09.153936Z"
    }
   },
   "cell_type": "code",
   "source": [
    "#Filtering data and column selection using SQLite\n",
    "\n",
    "query = \"\"\"\n",
    "SELECT\n",
    "    Player name,\n",
    "    Pos position,\n",
    "    Nation nation,\n",
    "    Age age,\n",
    "    Squad club,\n",
    "    Comp league,\n",
    "    \"Min\" mins_played,\n",
    "    \"90s\" ninety_mins_played,\n",
    "    Gls goals_scored,\n",
    "    PK penalty_goals,\n",
    "    npxG non_pen_exp_goals,\n",
    "    xG exp_goals,\n",
    "    Sh total_shots,\n",
    "    SoT shots_on_target,\n",
    "    \"G/Sh\" goals_per_shot,\n",
    "    \"G/SoT\" goals_per_sot,\n",
    "    \"SoT%\" shot_on_target_perc,\n",
    "    Dist avg_shot_distance,\n",
    "    Ast assists,\n",
    "    xAG exp_assists,\n",
    "    KP key_passes,\n",
    "    \"SCA90\" shot_creation_per_90,\n",
    "    \"GCA90\" goal_creation_per_90,\n",
    "    \"Cmp%\" pass_completion_perc,\n",
    "    Touches total_touches,\n",
    "    PrgC progressive_carries,\n",
    "    Carries total_carries,\n",
    "    Dis times_dispossessed,\n",
    "    Rec passes_received,\n",
    "    \"Att 3rd\" touches_in_attacking_third,\n",
    "    \"Att Pen\" touches_in_pen,\n",
    "    PrgR progressive_runs,\n",
    "    Won aerial_duels_won,\n",
    "    Lost aerial_duels_lost,\n",
    "    \"Won%\" aerial_duel_win_perc,\n",
    "    Tkl tackles,\n",
    "    \"Tkl+Int\" tackles_and_interceptions\n",
    "FROM players\n",
    "WHERE Pos LIKE '%FW%'\n",
    "\"\"\"\n",
    "\n",
    "filtered_df = pd.read_sql(query, conn)\n",
    "print(filtered_df.head())\n",
    "conn.close()"
   ],
   "id": "def84da74a074e70",
   "outputs": [
    {
     "name": "stdout",
     "output_type": "stream",
     "text": [
      "                name position   nation   age       club      league  mins_played  ninety_mins_played  goals_scored  penalty_goals  non_pen_exp_goals  \\\n",
      "0  Keyliane Abdallah       FW   fr FRA  19.0  Marseille  fr Ligue 1            3                 0.0             0              0                0.0   \n",
      "1      Himad Abdelli    MF,FW   dz ALG  25.0     Angers  fr Ligue 1         2842                31.6             6              3                3.2   \n",
      "2     Matthis Abline       FW   fr FRA  22.0     Nantes  fr Ligue 1         2768                30.8             9              1                7.7   \n",
      "3  Zakaria Aboukhlal    MF,FW   ma MAR  25.0   Toulouse  fr Ligue 1         1901                21.1             7              1                8.6   \n",
      "4      Tammy Abraham       FW  eng ENG  27.0       Roma  it Serie A            1                 0.0             0              0                0.0   \n",
      "\n",
      "   exp_goals  total_shots  shots_on_target  goals_per_shot  goals_per_sot  shot_on_target_perc  avg_shot_distance  assists  exp_assists  key_passes  \\\n",
      "0        0.0            0                0             NaN            NaN                  NaN                NaN        0          0.0           0   \n",
      "1        6.4           35                8            0.09           0.38                 22.9               22.6        1          3.2          39   \n",
      "2        8.5           73               26            0.11           0.31                 35.6               15.0        2          3.8          27   \n",
      "3       10.2           62               26            0.10           0.23                 41.9               14.6        2          1.6          12   \n",
      "4        0.0            0                0             NaN            NaN                  NaN                NaN        0          0.0           0   \n",
      "\n",
      "   shot_creation_per_90  goal_creation_per_90  pass_completion_perc  total_touches  progressive_carries  total_carries  times_dispossessed  passes_received  \\\n",
      "0                  0.00                  0.00                 100.0              4                    1              1                   0                3   \n",
      "1                  2.98                  0.16                  82.1           1993                  107           1183                  51             1446   \n",
      "2                  1.98                  0.29                  65.2            878                   75            587                  65              689   \n",
      "3                  1.61                  0.33                  63.3            613                   34            375                  26              450   \n",
      "4                  0.00                  0.00                  33.3              4                    0              3                   0                4   \n",
      "\n",
      "   touches_in_attacking_third  touches_in_pen  progressive_runs  aerial_duels_won  aerial_duels_lost  aerial_duel_win_perc  tackles  tackles_and_interceptions  \n",
      "0                           0               0                 0                 0                  0                   NaN        1                          1  \n",
      "1                          15              49               111                13                 33                  39.4       48                         74  \n",
      "2                           5             142               169                64                  6                  45.7       11                         15  \n",
      "3                           7             113               164                22                 19                  36.7       22                         28  \n",
      "4                           0               1                 2                 1                  1                 100.0        0                          0  \n"
     ]
    }
   ],
   "execution_count": 29
  },
  {
   "metadata": {
    "ExecuteTime": {
     "end_time": "2025-05-28T07:52:07.597170Z",
     "start_time": "2025-05-28T07:52:07.572893Z"
    }
   },
   "cell_type": "code",
   "source": [
    "#Checking shape and data types\n",
    "print(filtered_df.info())"
   ],
   "id": "4282c0c2fcf01901",
   "outputs": [
    {
     "name": "stdout",
     "output_type": "stream",
     "text": [
      "<class 'pandas.core.frame.DataFrame'>\n",
      "RangeIndex: 1003 entries, 0 to 1002\n",
      "Data columns (total 37 columns):\n",
      " #   Column                      Non-Null Count  Dtype  \n",
      "---  ------                      --------------  -----  \n",
      " 0   name                        1003 non-null   object \n",
      " 1   position                    1003 non-null   object \n",
      " 2   nation                      1000 non-null   object \n",
      " 3   age                         998 non-null    float64\n",
      " 4   club                        1003 non-null   object \n",
      " 5   league                      1003 non-null   object \n",
      " 6   mins_played                 1003 non-null   int64  \n",
      " 7   ninety_mins_played          1003 non-null   float64\n",
      " 8   goals_scored                1003 non-null   int64  \n",
      " 9   penalty_goals               1003 non-null   int64  \n",
      " 10  non_pen_exp_goals           1003 non-null   float64\n",
      " 11  exp_goals                   1003 non-null   float64\n",
      " 12  total_shots                 1003 non-null   int64  \n",
      " 13  shots_on_target             1003 non-null   int64  \n",
      " 14  goals_per_shot              921 non-null    float64\n",
      " 15  goals_per_sot               831 non-null    float64\n",
      " 16  shot_on_target_perc         921 non-null    float64\n",
      " 17  avg_shot_distance           920 non-null    float64\n",
      " 18  assists                     1003 non-null   int64  \n",
      " 19  exp_assists                 1003 non-null   float64\n",
      " 20  key_passes                  1003 non-null   int64  \n",
      " 21  shot_creation_per_90        1003 non-null   float64\n",
      " 22  goal_creation_per_90        1003 non-null   float64\n",
      " 23  pass_completion_perc        994 non-null    float64\n",
      " 24  total_touches               1003 non-null   int64  \n",
      " 25  progressive_carries         1003 non-null   int64  \n",
      " 26  total_carries               1003 non-null   int64  \n",
      " 27  times_dispossessed          1003 non-null   int64  \n",
      " 28  passes_received             1003 non-null   int64  \n",
      " 29  touches_in_attacking_third  1003 non-null   int64  \n",
      " 30  touches_in_pen              1003 non-null   int64  \n",
      " 31  progressive_runs            1003 non-null   int64  \n",
      " 32  aerial_duels_won            1003 non-null   int64  \n",
      " 33  aerial_duels_lost           1003 non-null   int64  \n",
      " 34  aerial_duel_win_perc        944 non-null    float64\n",
      " 35  tackles                     1003 non-null   int64  \n",
      " 36  tackles_and_interceptions   1003 non-null   int64  \n",
      "dtypes: float64(13), int64(19), object(5)\n",
      "memory usage: 290.1+ KB\n",
      "None\n"
     ]
    }
   ],
   "execution_count": 43
  },
  {
   "metadata": {
    "ExecuteTime": {
     "end_time": "2025-05-28T07:49:42.074508Z",
     "start_time": "2025-05-28T07:49:42.036527Z"
    }
   },
   "cell_type": "code",
   "source": [
    "#Checking for duplicates\n",
    "duplicate_names = filtered_df[\"name\"][filtered_df[\"name\"].duplicated(keep=False)]\n",
    "print(duplicate_names)"
   ],
   "id": "e889a4ea23dd9c18",
   "outputs": [
    {
     "name": "stdout",
     "output_type": "stream",
     "text": [
      "4        Tammy Abraham\n",
      "5        Tammy Abraham\n",
      "6           Akor Adams\n",
      "7           Akor Adams\n",
      "27        Carles Aleñá\n",
      "             ...      \n",
      "961     Noah Weißhaupt\n",
      "990     Nicolò Zaniolo\n",
      "991     Nicolò Zaniolo\n",
      "1001       Milan Đurić\n",
      "1002       Milan Đurić\n",
      "Name: name, Length: 100, dtype: object\n"
     ]
    }
   ],
   "execution_count": 37
  },
  {
   "metadata": {
    "ExecuteTime": {
     "end_time": "2025-05-28T07:50:44.916559Z",
     "start_time": "2025-05-28T07:50:43.206426Z"
    }
   },
   "cell_type": "code",
   "source": [
    "#Grouping data to deal with players that have played for multiple clubs\n",
    "aggregation_dict = {\n",
    "    \"position\": lambda x: x.mode()[0] if not x.mode().empty else None,\n",
    "    \"nation\": lambda x: x.mode()[0] if not x.mode().empty else None,\n",
    "    \"age\": \"mean\",\n",
    "    \"club\": lambda x: \", \".join(x.unique()),\n",
    "    \"league\": lambda x: \", \".join(x.unique()),\n",
    "\n",
    "    #Minutes & Matches\n",
    "    \"mins_played\": \"sum\",\n",
    "    \"ninety_mins_played\": \"sum\",\n",
    "\n",
    "    #Goals & Assists\n",
    "    \"goals_scored\": \"sum\",\n",
    "    \"penalty_goals\": \"sum\",\n",
    "    \"non_pen_exp_goals\": lambda x: np.average(x, weights=filtered_df.loc[x.index, \"ninety_mins_played\"]) if filtered_df.loc[x.index, \"ninety_mins_played\"].sum() != 0 else np.nan,\n",
    "    \"exp_goals\": lambda x: np.average(x, weights=filtered_df.loc[x.index, \"ninety_mins_played\"]) if filtered_df.loc[x.index, \"ninety_mins_played\"].sum() != 0 else np.nan,\n",
    "    \"assists\": \"sum\",\n",
    "    \"exp_assists\": lambda x: np.average(x, weights=filtered_df.loc[x.index, \"ninety_mins_played\"]) if filtered_df.loc[x.index, \"ninety_mins_played\"].sum() != 0 else np.nan,\n",
    "\n",
    "    #Shooting Metrics\n",
    "    \"total_shots\": \"sum\",\n",
    "    \"shots_on_target\": \"sum\",\n",
    "    \"goals_per_shot\": lambda x: np.average(x, weights=filtered_df.loc[x.index, \"total_shots\"]) if filtered_df.loc[x.index, \"total_shots\"].sum() != 0 else np.nan,\n",
    "    \"goals_per_sot\": lambda x: np.average(x, weights=filtered_df.loc[x.index, \"shots_on_target\"]) if filtered_df.loc[x.index, \"shots_on_target\"].sum() != 0 else np.nan,\n",
    "    \"shot_on_target_perc\": lambda x: np.average(x, weights=filtered_df.loc[x.index, \"total_shots\"]) if filtered_df.loc[x.index, \"total_shots\"].sum() != 0 else np.nan,\n",
    "    \"avg_shot_distance\": lambda x: np.average(x, weights=filtered_df.loc[x.index, \"total_shots\"]) if filtered_df.loc[x.index, \"total_shots\"].sum() != 0 else np.nan,\n",
    "\n",
    "    #Creativity & Passing\n",
    "    \"key_passes\": \"sum\",\n",
    "    \"shot_creation_per_90\": lambda x: np.average(x, weights=filtered_df.loc[x.index, \"ninety_mins_played\"]) if filtered_df.loc[x.index, \"ninety_mins_played\"].sum() != 0 else np.nan,\n",
    "    \"goal_creation_per_90\": lambda x: np.average(x, weights=filtered_df.loc[x.index, \"ninety_mins_played\"]) if filtered_df.loc[x.index, \"ninety_mins_played\"].sum() != 0 else np.nan,\n",
    "    \"pass_completion_perc\": lambda x: np.average(x, weights=filtered_df.loc[x.index, \"total_touches\"]) if filtered_df.loc[x.index, \"total_touches\"].sum() != 0 else np.nan,\n",
    "\n",
    "    #Progressive & Possession Play\n",
    "    \"progressive_carries\": \"sum\",\n",
    "    \"total_carries\": \"sum\",\n",
    "    \"total_touches\": \"sum\",\n",
    "    \"touches_in_attacking_third\": \"sum\",\n",
    "    \"touches_in_pen\": \"sum\",\n",
    "    \"progressive_runs\": \"sum\",\n",
    "    \"times_dispossessed\": \"sum\",\n",
    "    \"passes_received\": \"sum\",\n",
    "\n",
    "    #Aerial Duels\n",
    "    \"aerial_duels_won\": \"sum\",\n",
    "    \"aerial_duels_lost\": \"sum\",\n",
    "    \"aerial_duel_win_perc\": lambda x: np.average(x, weights=filtered_df.loc[x.index, \"aerial_duels_won\"] + filtered_df.loc[x.index, \"aerial_duels_lost\"]) if (filtered_df.loc[x.index, \"aerial_duels_won\"] + filtered_df.loc[x.index, \"aerial_duels_lost\"]).sum() != 0 else np.nan,\n",
    "\n",
    "    #Defensive Actions\n",
    "    \"tackles\": \"sum\",\n",
    "    \"tackles_and_interceptions\": \"sum\"\n",
    "}\n",
    "\n",
    "#Applying groupby\n",
    "grouped_df = filtered_df.groupby(\"name\").agg(aggregation_dict).reset_index()"
   ],
   "id": "383e9f6122cf9205",
   "outputs": [],
   "execution_count": 39
  },
  {
   "metadata": {
    "ExecuteTime": {
     "end_time": "2025-05-28T07:51:06.559435Z",
     "start_time": "2025-05-28T07:51:06.546886Z"
    }
   },
   "cell_type": "code",
   "source": [
    "#Applying additional filter to include only strikers who have played more than 900 mins\n",
    "striker_df = grouped_df[grouped_df[\"mins_played\"] >= 900]\n",
    "striker_df.shape"
   ],
   "id": "b61408f47ddc66d",
   "outputs": [
    {
     "data": {
      "text/plain": [
       "(493, 37)"
      ]
     },
     "execution_count": 40,
     "metadata": {},
     "output_type": "execute_result"
    }
   ],
   "execution_count": 40
  },
  {
   "metadata": {
    "ExecuteTime": {
     "end_time": "2025-05-28T07:51:49.185553Z",
     "start_time": "2025-05-28T07:51:49.176651Z"
    }
   },
   "cell_type": "code",
   "source": [
    "#Checking for missing values\n",
    "print(striker_df.isnull().sum())"
   ],
   "id": "64d0aee7a62124dd",
   "outputs": [
    {
     "name": "stdout",
     "output_type": "stream",
     "text": [
      "name                           0\n",
      "position                       0\n",
      "nation                         0\n",
      "age                            0\n",
      "club                           0\n",
      "league                         0\n",
      "mins_played                    0\n",
      "ninety_mins_played             0\n",
      "goals_scored                   0\n",
      "penalty_goals                  0\n",
      "non_pen_exp_goals              0\n",
      "exp_goals                      0\n",
      "assists                        0\n",
      "exp_assists                    0\n",
      "total_shots                    0\n",
      "shots_on_target                0\n",
      "goals_per_shot                 3\n",
      "goals_per_sot                 12\n",
      "shot_on_target_perc            3\n",
      "avg_shot_distance              3\n",
      "key_passes                     0\n",
      "shot_creation_per_90           0\n",
      "goal_creation_per_90           0\n",
      "pass_completion_perc           0\n",
      "progressive_carries            0\n",
      "total_carries                  0\n",
      "total_touches                  0\n",
      "touches_in_attacking_third     0\n",
      "touches_in_pen                 0\n",
      "progressive_runs               0\n",
      "times_dispossessed             0\n",
      "passes_received                0\n",
      "aerial_duels_won               0\n",
      "aerial_duels_lost              0\n",
      "aerial_duel_win_perc           3\n",
      "tackles                        0\n",
      "tackles_and_interceptions      0\n",
      "dtype: int64\n"
     ]
    }
   ],
   "execution_count": 42
  },
  {
   "metadata": {},
   "cell_type": "markdown",
   "source": [
    "We are missing values in the following columns:\n",
    "\n",
    "- goals_per_shot\n",
    "- goals_per_sot\n",
    "- shot_on_target_perc\n",
    "- avg_shot_distance\n",
    "- aerial_duel_win_perc"
   ],
   "id": "ec95195ac1fd384b"
  },
  {
   "metadata": {
    "ExecuteTime": {
     "end_time": "2025-05-28T07:56:36.858616Z",
     "start_time": "2025-05-28T07:56:36.746680Z"
    }
   },
   "cell_type": "code",
   "source": [
    "#Saving the striker df to a csv for further eda and preprocessing\n",
    "striker_df.to_csv(\"/Users/dan/PycharmProjects/Arsenal-Striker-Scouting/data/striker_df.csv\")"
   ],
   "id": "65dc12bc555b825b",
   "outputs": [],
   "execution_count": 44
  },
  {
   "metadata": {},
   "cell_type": "markdown",
   "source": "EDA and preprocessing applied in notebook 02 eda",
   "id": "90ee169913a41068"
  }
 ],
 "metadata": {
  "kernelspec": {
   "display_name": "Python 3",
   "language": "python",
   "name": "python3"
  },
  "language_info": {
   "codemirror_mode": {
    "name": "ipython",
    "version": 2
   },
   "file_extension": ".py",
   "mimetype": "text/x-python",
   "name": "python",
   "nbconvert_exporter": "python",
   "pygments_lexer": "ipython2",
   "version": "2.7.6"
  }
 },
 "nbformat": 4,
 "nbformat_minor": 5
}
