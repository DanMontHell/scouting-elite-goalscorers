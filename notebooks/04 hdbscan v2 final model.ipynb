{
 "cells": [
  {
   "metadata": {},
   "cell_type": "markdown",
   "source": "# Clustering with HDBSCAN",
   "id": "a332c9949a2faf0a"
  },
  {
   "metadata": {
    "ExecuteTime": {
     "end_time": "2025-06-04T11:08:50.816143Z",
     "start_time": "2025-06-04T11:08:48.814908Z"
    }
   },
   "cell_type": "code",
   "source": [
    "#Data manipulation and analysis\n",
    "import pandas as pd\n",
    "import seaborn as sns\n",
    "import warnings\n",
    "warnings.filterwarnings('ignore')\n",
    "\n",
    "#Machine Learning\n",
    "from sklearn.preprocessing import StandardScaler\n",
    "from sklearn.metrics import silhouette_score\n",
    "import hdbscan\n",
    "import umap.umap_ as umap\n",
    "\n",
    "#Visualization\n",
    "import matplotlib.pyplot as plt\n",
    "\n",
    "pd.set_option(\"display.max_columns\", None)\n",
    "pd.set_option(\"display.width\", 160)\n",
    "pd.set_option(\"display.max_colwidth\", 30)"
   ],
   "id": "7062db532c4ce3ac",
   "outputs": [],
   "execution_count": 1
  },
  {
   "metadata": {
    "ExecuteTime": {
     "end_time": "2025-06-04T11:08:54.197838Z",
     "start_time": "2025-06-04T11:08:54.170558Z"
    }
   },
   "cell_type": "code",
   "source": [
    "#Loading filtered data\n",
    "df = pd.read_csv(\"/Users/dan/PycharmProjects/Arsenal-Striker-Scouting/data/filtered_striker_df.csv\")\n",
    "df.head()"
   ],
   "id": "adfe89a5c360e2ac",
   "outputs": [
    {
     "data": {
      "text/plain": [
       "   Unnamed: 0                name position  nation   age        club         league  mins_played  ninety_mins_played  goals_scored  penalty_goals  \\\n",
       "0           0       Abdallah Sima    FW,MF  sn SEN  23.0       Brest     fr Ligue 1         1238                13.8             7              0   \n",
       "1           4         Adam Hložek    FW,MF  cz CZE  22.0  Hoffenheim  de Bundesliga         1871                20.8             8              0   \n",
       "2           7     Ademola Lookman    MF,FW  ng NGA  27.0    Atalanta     it Serie A         2247                25.0            15              1   \n",
       "3          14       Alassane Pléa    MF,FW  fr FRA  32.0    Gladbach  de Bundesliga         1902                21.1            11              1   \n",
       "4          16  Albert Guðmundsson    FW,MF  is ISL  27.0  Fiorentina     it Serie A         1273                14.1             6              2   \n",
       "\n",
       "   non_pen_exp_goals  exp_goals  assists  exp_assists  total_shots  shots_on_target  goals_per_shot  goals_per_sot  shot_on_target_perc  avg_shot_distance  \\\n",
       "0                5.9        5.9        2          1.0           37               18        0.189189       0.388889            48.648649               13.1   \n",
       "1                5.6        5.6        4          3.5           59               24        0.135593       0.333333            40.677966               17.3   \n",
       "2                9.5       10.3        5          7.1           81               32        0.185185       0.468750            39.506173               14.7   \n",
       "3                6.6        7.4        4          3.1           41               12        0.268293       0.916667            29.268293               15.2   \n",
       "4                3.1        4.7        1          1.8           25               13        0.240000       0.461538            52.000000               20.6   \n",
       "\n",
       "   key_passes  shot_creation_per_90  goal_creation_per_90  pass_completion_perc  progressive_carries  total_carries  total_touches  \\\n",
       "0          13                  2.04                  0.22                  69.6                   36            299            510   \n",
       "1          20                  2.74                  0.48                  68.5                   54            429            761   \n",
       "2          61                  5.41                  0.60                  72.5                  142            827           1274   \n",
       "3          25                  3.41                  0.66                  72.1                   51            601            979   \n",
       "4          15                  2.76                  0.35                  83.0                   35            402            624   \n",
       "\n",
       "   touches_in_attacking_third  touches_in_pen  progressive_runs  times_dispossessed  passes_received  aerial_duels_won  aerial_duels_lost  \\\n",
       "0                           8              66                92                  22              378                41                  7   \n",
       "1                           7             114               102                  37              552                40                  9   \n",
       "2                           8             199               316                  51              974                17                  8   \n",
       "3                           5              77               141                  22              773                15                  9   \n",
       "4                           3              32                59                  14              466                 4                 10   \n",
       "\n",
       "   aerial_duel_win_perc  tackles  tackles_and_interceptions  goals_per_ninety  exp_goals_per_ninety  goals_minus_exp_goals  \n",
       "0             85.416667       15                         16          0.507246              0.427536                    1.1  \n",
       "1             81.632653       22                         26          0.384615              0.269231                    2.4  \n",
       "2             68.000000       32                         35          0.600000              0.412000                    4.7  \n",
       "3             62.500000        7                          9          0.521327              0.350711                    3.6  \n",
       "4             28.571429        9                         15          0.425532              0.333333                    1.3  "
      ],
      "text/html": [
       "<div>\n",
       "<style scoped>\n",
       "    .dataframe tbody tr th:only-of-type {\n",
       "        vertical-align: middle;\n",
       "    }\n",
       "\n",
       "    .dataframe tbody tr th {\n",
       "        vertical-align: top;\n",
       "    }\n",
       "\n",
       "    .dataframe thead th {\n",
       "        text-align: right;\n",
       "    }\n",
       "</style>\n",
       "<table border=\"1\" class=\"dataframe\">\n",
       "  <thead>\n",
       "    <tr style=\"text-align: right;\">\n",
       "      <th></th>\n",
       "      <th>Unnamed: 0</th>\n",
       "      <th>name</th>\n",
       "      <th>position</th>\n",
       "      <th>nation</th>\n",
       "      <th>age</th>\n",
       "      <th>club</th>\n",
       "      <th>league</th>\n",
       "      <th>mins_played</th>\n",
       "      <th>ninety_mins_played</th>\n",
       "      <th>goals_scored</th>\n",
       "      <th>penalty_goals</th>\n",
       "      <th>non_pen_exp_goals</th>\n",
       "      <th>exp_goals</th>\n",
       "      <th>assists</th>\n",
       "      <th>exp_assists</th>\n",
       "      <th>total_shots</th>\n",
       "      <th>shots_on_target</th>\n",
       "      <th>goals_per_shot</th>\n",
       "      <th>goals_per_sot</th>\n",
       "      <th>shot_on_target_perc</th>\n",
       "      <th>avg_shot_distance</th>\n",
       "      <th>key_passes</th>\n",
       "      <th>shot_creation_per_90</th>\n",
       "      <th>goal_creation_per_90</th>\n",
       "      <th>pass_completion_perc</th>\n",
       "      <th>progressive_carries</th>\n",
       "      <th>total_carries</th>\n",
       "      <th>total_touches</th>\n",
       "      <th>touches_in_attacking_third</th>\n",
       "      <th>touches_in_pen</th>\n",
       "      <th>progressive_runs</th>\n",
       "      <th>times_dispossessed</th>\n",
       "      <th>passes_received</th>\n",
       "      <th>aerial_duels_won</th>\n",
       "      <th>aerial_duels_lost</th>\n",
       "      <th>aerial_duel_win_perc</th>\n",
       "      <th>tackles</th>\n",
       "      <th>tackles_and_interceptions</th>\n",
       "      <th>goals_per_ninety</th>\n",
       "      <th>exp_goals_per_ninety</th>\n",
       "      <th>goals_minus_exp_goals</th>\n",
       "    </tr>\n",
       "  </thead>\n",
       "  <tbody>\n",
       "    <tr>\n",
       "      <th>0</th>\n",
       "      <td>0</td>\n",
       "      <td>Abdallah Sima</td>\n",
       "      <td>FW,MF</td>\n",
       "      <td>sn SEN</td>\n",
       "      <td>23.0</td>\n",
       "      <td>Brest</td>\n",
       "      <td>fr Ligue 1</td>\n",
       "      <td>1238</td>\n",
       "      <td>13.8</td>\n",
       "      <td>7</td>\n",
       "      <td>0</td>\n",
       "      <td>5.9</td>\n",
       "      <td>5.9</td>\n",
       "      <td>2</td>\n",
       "      <td>1.0</td>\n",
       "      <td>37</td>\n",
       "      <td>18</td>\n",
       "      <td>0.189189</td>\n",
       "      <td>0.388889</td>\n",
       "      <td>48.648649</td>\n",
       "      <td>13.1</td>\n",
       "      <td>13</td>\n",
       "      <td>2.04</td>\n",
       "      <td>0.22</td>\n",
       "      <td>69.6</td>\n",
       "      <td>36</td>\n",
       "      <td>299</td>\n",
       "      <td>510</td>\n",
       "      <td>8</td>\n",
       "      <td>66</td>\n",
       "      <td>92</td>\n",
       "      <td>22</td>\n",
       "      <td>378</td>\n",
       "      <td>41</td>\n",
       "      <td>7</td>\n",
       "      <td>85.416667</td>\n",
       "      <td>15</td>\n",
       "      <td>16</td>\n",
       "      <td>0.507246</td>\n",
       "      <td>0.427536</td>\n",
       "      <td>1.1</td>\n",
       "    </tr>\n",
       "    <tr>\n",
       "      <th>1</th>\n",
       "      <td>4</td>\n",
       "      <td>Adam Hložek</td>\n",
       "      <td>FW,MF</td>\n",
       "      <td>cz CZE</td>\n",
       "      <td>22.0</td>\n",
       "      <td>Hoffenheim</td>\n",
       "      <td>de Bundesliga</td>\n",
       "      <td>1871</td>\n",
       "      <td>20.8</td>\n",
       "      <td>8</td>\n",
       "      <td>0</td>\n",
       "      <td>5.6</td>\n",
       "      <td>5.6</td>\n",
       "      <td>4</td>\n",
       "      <td>3.5</td>\n",
       "      <td>59</td>\n",
       "      <td>24</td>\n",
       "      <td>0.135593</td>\n",
       "      <td>0.333333</td>\n",
       "      <td>40.677966</td>\n",
       "      <td>17.3</td>\n",
       "      <td>20</td>\n",
       "      <td>2.74</td>\n",
       "      <td>0.48</td>\n",
       "      <td>68.5</td>\n",
       "      <td>54</td>\n",
       "      <td>429</td>\n",
       "      <td>761</td>\n",
       "      <td>7</td>\n",
       "      <td>114</td>\n",
       "      <td>102</td>\n",
       "      <td>37</td>\n",
       "      <td>552</td>\n",
       "      <td>40</td>\n",
       "      <td>9</td>\n",
       "      <td>81.632653</td>\n",
       "      <td>22</td>\n",
       "      <td>26</td>\n",
       "      <td>0.384615</td>\n",
       "      <td>0.269231</td>\n",
       "      <td>2.4</td>\n",
       "    </tr>\n",
       "    <tr>\n",
       "      <th>2</th>\n",
       "      <td>7</td>\n",
       "      <td>Ademola Lookman</td>\n",
       "      <td>MF,FW</td>\n",
       "      <td>ng NGA</td>\n",
       "      <td>27.0</td>\n",
       "      <td>Atalanta</td>\n",
       "      <td>it Serie A</td>\n",
       "      <td>2247</td>\n",
       "      <td>25.0</td>\n",
       "      <td>15</td>\n",
       "      <td>1</td>\n",
       "      <td>9.5</td>\n",
       "      <td>10.3</td>\n",
       "      <td>5</td>\n",
       "      <td>7.1</td>\n",
       "      <td>81</td>\n",
       "      <td>32</td>\n",
       "      <td>0.185185</td>\n",
       "      <td>0.468750</td>\n",
       "      <td>39.506173</td>\n",
       "      <td>14.7</td>\n",
       "      <td>61</td>\n",
       "      <td>5.41</td>\n",
       "      <td>0.60</td>\n",
       "      <td>72.5</td>\n",
       "      <td>142</td>\n",
       "      <td>827</td>\n",
       "      <td>1274</td>\n",
       "      <td>8</td>\n",
       "      <td>199</td>\n",
       "      <td>316</td>\n",
       "      <td>51</td>\n",
       "      <td>974</td>\n",
       "      <td>17</td>\n",
       "      <td>8</td>\n",
       "      <td>68.000000</td>\n",
       "      <td>32</td>\n",
       "      <td>35</td>\n",
       "      <td>0.600000</td>\n",
       "      <td>0.412000</td>\n",
       "      <td>4.7</td>\n",
       "    </tr>\n",
       "    <tr>\n",
       "      <th>3</th>\n",
       "      <td>14</td>\n",
       "      <td>Alassane Pléa</td>\n",
       "      <td>MF,FW</td>\n",
       "      <td>fr FRA</td>\n",
       "      <td>32.0</td>\n",
       "      <td>Gladbach</td>\n",
       "      <td>de Bundesliga</td>\n",
       "      <td>1902</td>\n",
       "      <td>21.1</td>\n",
       "      <td>11</td>\n",
       "      <td>1</td>\n",
       "      <td>6.6</td>\n",
       "      <td>7.4</td>\n",
       "      <td>4</td>\n",
       "      <td>3.1</td>\n",
       "      <td>41</td>\n",
       "      <td>12</td>\n",
       "      <td>0.268293</td>\n",
       "      <td>0.916667</td>\n",
       "      <td>29.268293</td>\n",
       "      <td>15.2</td>\n",
       "      <td>25</td>\n",
       "      <td>3.41</td>\n",
       "      <td>0.66</td>\n",
       "      <td>72.1</td>\n",
       "      <td>51</td>\n",
       "      <td>601</td>\n",
       "      <td>979</td>\n",
       "      <td>5</td>\n",
       "      <td>77</td>\n",
       "      <td>141</td>\n",
       "      <td>22</td>\n",
       "      <td>773</td>\n",
       "      <td>15</td>\n",
       "      <td>9</td>\n",
       "      <td>62.500000</td>\n",
       "      <td>7</td>\n",
       "      <td>9</td>\n",
       "      <td>0.521327</td>\n",
       "      <td>0.350711</td>\n",
       "      <td>3.6</td>\n",
       "    </tr>\n",
       "    <tr>\n",
       "      <th>4</th>\n",
       "      <td>16</td>\n",
       "      <td>Albert Guðmundsson</td>\n",
       "      <td>FW,MF</td>\n",
       "      <td>is ISL</td>\n",
       "      <td>27.0</td>\n",
       "      <td>Fiorentina</td>\n",
       "      <td>it Serie A</td>\n",
       "      <td>1273</td>\n",
       "      <td>14.1</td>\n",
       "      <td>6</td>\n",
       "      <td>2</td>\n",
       "      <td>3.1</td>\n",
       "      <td>4.7</td>\n",
       "      <td>1</td>\n",
       "      <td>1.8</td>\n",
       "      <td>25</td>\n",
       "      <td>13</td>\n",
       "      <td>0.240000</td>\n",
       "      <td>0.461538</td>\n",
       "      <td>52.000000</td>\n",
       "      <td>20.6</td>\n",
       "      <td>15</td>\n",
       "      <td>2.76</td>\n",
       "      <td>0.35</td>\n",
       "      <td>83.0</td>\n",
       "      <td>35</td>\n",
       "      <td>402</td>\n",
       "      <td>624</td>\n",
       "      <td>3</td>\n",
       "      <td>32</td>\n",
       "      <td>59</td>\n",
       "      <td>14</td>\n",
       "      <td>466</td>\n",
       "      <td>4</td>\n",
       "      <td>10</td>\n",
       "      <td>28.571429</td>\n",
       "      <td>9</td>\n",
       "      <td>15</td>\n",
       "      <td>0.425532</td>\n",
       "      <td>0.333333</td>\n",
       "      <td>1.3</td>\n",
       "    </tr>\n",
       "  </tbody>\n",
       "</table>\n",
       "</div>"
      ]
     },
     "execution_count": 2,
     "metadata": {},
     "output_type": "execute_result"
    }
   ],
   "execution_count": 2
  },
  {
   "metadata": {
    "ExecuteTime": {
     "end_time": "2025-06-04T11:08:57.776488Z",
     "start_time": "2025-06-04T11:08:57.756504Z"
    }
   },
   "cell_type": "code",
   "source": [
    "#dropping rogue column\n",
    "df = df.drop(columns=['Unnamed: 0'])"
   ],
   "id": "81b6803221cfc14d",
   "outputs": [],
   "execution_count": 3
  },
  {
   "metadata": {
    "ExecuteTime": {
     "end_time": "2025-06-04T11:09:14.877460Z",
     "start_time": "2025-06-04T11:09:14.867767Z"
    }
   },
   "cell_type": "code",
   "source": [
    "#Engineering key features for better comparison\n",
    "df.loc[:, \"progressive_runs_per_ninety\"] = df[\"progressive_runs\"] / df[\"ninety_mins_played\"]\n",
    "df.loc[:, \"touches_in_pen_per_ninety\"] = df[\"touches_in_pen\"] / df[\"ninety_mins_played\"]\n",
    "df.loc[:, \"aerial_duels_won_per_ninety\"] = df[\"aerial_duels_won\"] / df[\"ninety_mins_played\"]\n",
    "df.loc[:, \"shots_on_target_per_ninety\"] = df[\"shots_on_target\"] / df[\"ninety_mins_played\"]\n",
    "df.loc[:, \"non_pen_xg_per_ninety\"] = df[\"non_pen_exp_goals\"] / df[\"ninety_mins_played\"]\n",
    "df.loc[:, \"xa_per_ninety\"] = df[\"exp_assists\"] / df[\"ninety_mins_played\"]"
   ],
   "id": "17aa4a93ab296307",
   "outputs": [],
   "execution_count": 4
  },
  {
   "metadata": {
    "ExecuteTime": {
     "end_time": "2025-06-04T11:09:33.387210Z",
     "start_time": "2025-06-04T11:09:33.377928Z"
    }
   },
   "cell_type": "code",
   "source": [
    "#Checking shape to make sure new features have been added\n",
    "df.shape"
   ],
   "id": "71e3faaa8bad6fa4",
   "outputs": [
    {
     "data": {
      "text/plain": [
       "(216, 46)"
      ]
     },
     "execution_count": 5,
     "metadata": {},
     "output_type": "execute_result"
    }
   ],
   "execution_count": 5
  },
  {
   "metadata": {
    "ExecuteTime": {
     "end_time": "2025-06-04T11:10:03.739629Z",
     "start_time": "2025-06-04T11:10:03.716959Z"
    }
   },
   "cell_type": "code",
   "source": [
    "#Checking for nulls in new features\n",
    "print(df[[\"progressive_runs_per_ninety\", \"touches_in_pen_per_ninety\",\n",
    "          \"aerial_duels_won_per_ninety\", \"shots_on_target_per_ninety\",\n",
    "          \"non_pen_xg_per_ninety\", \"xa_per_ninety\", \"goals_per_sot\",\n",
    "          \"goals_minus_exp_goals\", \"goals_per_ninety\", \"age\"]]\n",
    "      .isnull().sum())"
   ],
   "id": "c4755e0500ed1054",
   "outputs": [
    {
     "name": "stdout",
     "output_type": "stream",
     "text": [
      "progressive_runs_per_ninety    0\n",
      "touches_in_pen_per_ninety      0\n",
      "aerial_duels_won_per_ninety    0\n",
      "shots_on_target_per_ninety     0\n",
      "non_pen_xg_per_ninety          0\n",
      "xa_per_ninety                  0\n",
      "goals_per_sot                  0\n",
      "goals_minus_exp_goals          0\n",
      "goals_per_ninety               0\n",
      "age                            0\n",
      "dtype: int64\n"
     ]
    }
   ],
   "execution_count": 6
  },
  {
   "metadata": {
    "ExecuteTime": {
     "end_time": "2025-06-04T11:10:14.249894Z",
     "start_time": "2025-06-04T11:10:14.244949Z"
    }
   },
   "cell_type": "code",
   "source": [
    "#Selecting features based on EDA with the objective of finding an elite goalscorer\n",
    "feature_selection = df[[\n",
    "    \"progressive_runs_per_ninety\", \"touches_in_pen_per_ninety\",\n",
    "    \"aerial_duels_won_per_ninety\", \"shots_on_target_per_ninety\",\n",
    "    \"non_pen_xg_per_ninety\", \"xa_per_ninety\", \"goals_per_sot\",\n",
    "    \"goals_minus_exp_goals\", \"goals_per_ninety\", \"age\"\n",
    "]]"
   ],
   "id": "c9a4719c363dbcc3",
   "outputs": [],
   "execution_count": 7
  },
  {
   "metadata": {
    "ExecuteTime": {
     "end_time": "2025-06-04T11:10:17.393544Z",
     "start_time": "2025-06-04T11:10:17.370880Z"
    }
   },
   "cell_type": "code",
   "source": [
    "#Scaling ready for clustering\n",
    "scaler = StandardScaler()\n",
    "X_scaled = scaler.fit_transform(feature_selection)"
   ],
   "id": "92828a673f9cb05c",
   "outputs": [],
   "execution_count": 8
  },
  {
   "metadata": {},
   "cell_type": "markdown",
   "source": "### HDBSCAN v1",
   "id": "239671c031785461"
  },
  {
   "metadata": {
    "ExecuteTime": {
     "end_time": "2025-06-04T11:10:25.407603Z",
     "start_time": "2025-06-04T11:10:25.388324Z"
    }
   },
   "cell_type": "code",
   "source": [
    "#Starting with a default cluster size\n",
    "model = hdbscan.HDBSCAN(min_cluster_size=5, min_samples=5)\n",
    "cluster_labels = model.fit_predict(X_scaled)"
   ],
   "id": "580949d2e498895d",
   "outputs": [],
   "execution_count": 9
  },
  {
   "metadata": {
    "ExecuteTime": {
     "end_time": "2025-06-04T11:10:29.329971Z",
     "start_time": "2025-06-04T11:10:29.323798Z"
    }
   },
   "cell_type": "code",
   "source": [
    "#Creating a cluster label to inspect the results\n",
    "df[\"cluster\"] = cluster_labels"
   ],
   "id": "e0cf853d7d9bc963",
   "outputs": [],
   "execution_count": 10
  },
  {
   "metadata": {
    "ExecuteTime": {
     "end_time": "2025-06-04T11:10:31.232399Z",
     "start_time": "2025-06-04T11:10:31.211566Z"
    }
   },
   "cell_type": "code",
   "source": [
    "#Checking clusters\n",
    "print(df[\"cluster\"].value_counts())"
   ],
   "id": "7d4c32e43225c21e",
   "outputs": [
    {
     "name": "stdout",
     "output_type": "stream",
     "text": [
      "cluster\n",
      "-1    200\n",
      " 0      8\n",
      " 1      8\n",
      "Name: count, dtype: int64\n"
     ]
    }
   ],
   "execution_count": 11
  },
  {
   "metadata": {},
   "cell_type": "markdown",
   "source": "The majority of players have been categorized as outliers, suggesting the model has not done a good job of finding elite players.",
   "id": "f0a18664c2fd5638"
  },
  {
   "metadata": {
    "ExecuteTime": {
     "end_time": "2025-06-04T11:10:45.109317Z",
     "start_time": "2025-06-04T11:10:45.103172Z"
    }
   },
   "cell_type": "code",
   "source": [
    "#Getting cluster stability scores\n",
    "cluster_stability = model.cluster_persistence_\n",
    "for i, score in enumerate(cluster_stability):\n",
    "    print(f\"Cluster {i}: Stability = {score:.3f}\")"
   ],
   "id": "9b7dde86eedb1d7c",
   "outputs": [
    {
     "name": "stdout",
     "output_type": "stream",
     "text": [
      "Cluster 0: Stability = 0.031\n",
      "Cluster 1: Stability = 0.045\n"
     ]
    }
   ],
   "execution_count": 12
  },
  {
   "metadata": {},
   "cell_type": "markdown",
   "source": "Stability scores confirm the model is not yet effective.",
   "id": "aecd6fe89a4219ae"
  },
  {
   "metadata": {
    "ExecuteTime": {
     "end_time": "2025-06-04T11:10:52.146670Z",
     "start_time": "2025-06-04T11:10:52.134387Z"
    }
   },
   "cell_type": "code",
   "source": [
    "#Outlier score: higher = more likely to be an outlier\n",
    "df[\"outlier_score\"] = model.outlier_scores_\n",
    "\n",
    "#Show the most outlier-ish players\n",
    "print(df[[\"name\",\"outlier_score\"]].sort_values(by=\"outlier_score\", ascending=False).head(10))"
   ],
   "id": "1305dd8dbd0c7461",
   "outputs": [
    {
     "name": "stdout",
     "output_type": "stream",
     "text": [
      "                   name  outlier_score\n",
      "11    Alexander Sørloth       0.701634\n",
      "169     Ousmane Dembélé       0.688305\n",
      "86        Gonçalo Ramos       0.664363\n",
      "168       Omar Marmoush       0.653668\n",
      "122       Kylian Mbappé       0.638571\n",
      "171       Patrik Schick       0.610510\n",
      "156       Mohamed Salah       0.601226\n",
      "187       Rodrigo Muniz       0.592359\n",
      "184  Robert Lewandowski       0.557172\n",
      "152        Mika Biereth       0.545876\n"
     ]
    }
   ],
   "execution_count": 13
  },
  {
   "metadata": {},
   "cell_type": "markdown",
   "source": "These are all elite level players confirming that the outliers are who we are looking for. If we can reduce the outlier group size, we might find our target.",
   "id": "faa48c643b553de0"
  },
  {
   "metadata": {},
   "cell_type": "markdown",
   "source": "### Dimension reduction",
   "id": "3793896dc217afc"
  },
  {
   "metadata": {
    "ExecuteTime": {
     "end_time": "2025-06-04T11:11:13.743411Z",
     "start_time": "2025-06-04T11:11:10.620482Z"
    }
   },
   "cell_type": "code",
   "source": [
    "#Reducing to 2 dimensions for visualization\n",
    "umap_reducer = umap.UMAP(n_components=2)\n",
    "X_umap = umap_reducer.fit_transform(X_scaled)\n",
    "\n",
    "#Add to dataframe\n",
    "df[\"umap_1\"] = X_umap[:, 0]\n",
    "df[\"umap_2\"] = X_umap[:, 1]"
   ],
   "id": "b93ab7118a2dc162",
   "outputs": [],
   "execution_count": 14
  },
  {
   "metadata": {
    "ExecuteTime": {
     "end_time": "2025-06-04T11:11:16.426458Z",
     "start_time": "2025-06-04T11:11:16.409684Z"
    }
   },
   "cell_type": "code",
   "source": [
    "model_umap = hdbscan.HDBSCAN(min_cluster_size=5, prediction_data=True)\n",
    "cluster_labels_umap = model_umap.fit_predict(X_umap)\n",
    "\n",
    "#Adding cluster labels\n",
    "df[\"umap_cluster\"] = cluster_labels_umap"
   ],
   "id": "284407657eab9b24",
   "outputs": [],
   "execution_count": 15
  },
  {
   "metadata": {
    "ExecuteTime": {
     "end_time": "2025-06-04T11:11:40.440069Z",
     "start_time": "2025-06-04T11:11:40.313189Z"
    }
   },
   "cell_type": "code",
   "source": [
    "plt.figure(figsize=(8, 6))\n",
    "sns.scatterplot(\n",
    "    data=df,\n",
    "    x=\"umap_1\",\n",
    "    y=\"umap_2\",\n",
    "    hue=\"umap_cluster\",\n",
    "    palette=\"tab10\",\n",
    "    alpha=0.7\n",
    ")\n",
    "plt.title(\"HDBSCAN Clusters on UMAP-Reduced Data\")\n",
    "plt.legend(title=\"Cluster\", bbox_to_anchor=(1.05, 1), loc=\"upper left\")\n",
    "plt.tight_layout()\n",
    "plt.show()\n"
   ],
   "id": "3a778236b0ec663e",
   "outputs": [
    {
     "data": {
      "text/plain": [
       "<Figure size 800x600 with 1 Axes>"
      ],
      "image/png": "[encoded data removed]"
     },
     "metadata": {},
     "output_type": "display_data"
    }
   ],
   "execution_count": 17
  },
  {
   "metadata": {
    "ExecuteTime": {
     "end_time": "2025-06-04T11:12:44.036324Z",
     "start_time": "2025-06-04T11:12:44.025554Z"
    }
   },
   "cell_type": "code",
   "source": [
    "#Checking cluster sizes\n",
    "df[\"umap_cluster\"].value_counts()"
   ],
   "id": "ae2f20b6f9b5a64a",
   "outputs": [
    {
     "data": {
      "text/plain": [
       "umap_cluster\n",
       "-1     86\n",
       " 8     24\n",
       " 9     13\n",
       " 7     11\n",
       " 4     11\n",
       " 12    10\n",
       " 2      9\n",
       " 1      9\n",
       " 0      9\n",
       " 10     9\n",
       " 3      7\n",
       " 5      7\n",
       " 6      6\n",
       " 11     5\n",
       "Name: count, dtype: int64"
      ]
     },
     "execution_count": 19,
     "metadata": {},
     "output_type": "execute_result"
    }
   ],
   "execution_count": 19
  },
  {
   "metadata": {
    "ExecuteTime": {
     "end_time": "2025-06-04T11:15:10.510289Z",
     "start_time": "2025-06-04T11:15:10.499337Z"
    }
   },
   "cell_type": "code",
   "source": [
    "#Filter out outliers\n",
    "mask = df[\"umap_cluster\"] != -1\n",
    "score = silhouette_score(X_umap[mask], df[\"umap_cluster\"][mask])\n",
    "print(\"Silhouette Score (excluding outliers):\", score)\n"
   ],
   "id": "61c5dd7691bb7878",
   "outputs": [
    {
     "name": "stdout",
     "output_type": "stream",
     "text": [
      "Silhouette Score (excluding outliers): 0.6048708\n"
     ]
    }
   ],
   "execution_count": 20
  },
  {
   "metadata": {},
   "cell_type": "markdown",
   "source": [
    "When we remove outliers from the calculation, we are seeing significant improvements in the silhouette score. However, outliers still represent a large volume of players.\n",
    "\n",
    "I will optimize this model further by applying hyperparameter tuning."
   ],
   "id": "5cc0a900f09ab032"
  },
  {
   "metadata": {},
   "cell_type": "markdown",
   "source": "### Hyperparameter tuning",
   "id": "e208275a2a04dab4"
  },
  {
   "metadata": {
    "ExecuteTime": {
     "end_time": "2025-06-04T11:15:14.448018Z",
     "start_time": "2025-06-04T11:15:14.444419Z"
    }
   },
   "cell_type": "code",
   "source": [
    "#Hyperparameter grids\n",
    "neighbors_list = [5, 10, 15, 30, 50, 75, 100]\n",
    "min_dist_list = [0.0, 0.05, 0.1, 0.25, 0.5, 0.7]\n",
    "min_cluster_sizes = [5, 7, 10, 15, 20]\n",
    "min_samples_list = [1, 3, 5, 7, 10]\n",
    "\n",
    "results = []"
   ],
   "id": "2049dc93154f66c7",
   "outputs": [],
   "execution_count": 21
  },
  {
   "metadata": {
    "ExecuteTime": {
     "end_time": "2025-06-04T11:15:30.558577Z",
     "start_time": "2025-06-04T11:15:16.782380Z"
    }
   },
   "cell_type": "code",
   "source": [
    "#Grid search\n",
    "for n_neighbors in neighbors_list:\n",
    "    for min_dist in min_dist_list:\n",
    "        reducer = umap.UMAP(n_neighbors=n_neighbors, min_dist=min_dist, random_state=42)\n",
    "        embedding = reducer.fit_transform(X_scaled)\n",
    "\n",
    "        for min_cluster_size in min_cluster_sizes:\n",
    "            for min_samples in min_samples_list:\n",
    "                model = hdbscan.HDBSCAN(min_cluster_size=min_cluster_size,\n",
    "                                            min_samples=min_samples,\n",
    "                                            prediction_data=True)\n",
    "                cluster_labels = model.fit_predict(embedding)\n",
    "\n",
    "                if len(set(cluster_labels)) > 1 and -1 in cluster_labels:\n",
    "                    score = silhouette_score(embedding[cluster_labels != -1], cluster_labels[cluster_labels != -1])\n",
    "                    num_clusters = len(set(cluster_labels)) - (1 if -1 in cluster_labels else 0)\n",
    "                    results.append({\n",
    "                        \"n_neighbors\": n_neighbors,\n",
    "                        \"min_dist\": min_dist,\n",
    "                        \"min_cluster_size\": min_cluster_size,\n",
    "                        \"min_samples\": min_samples,\n",
    "                        \"silhouette_score\": score,\n",
    "                        \"num_clusters\": num_clusters\n",
    "                    })\n"
   ],
   "id": "2818f68e469a1f7f",
   "outputs": [],
   "execution_count": 22
  },
  {
   "metadata": {
    "ExecuteTime": {
     "end_time": "2025-06-04T11:20:05.504167Z",
     "start_time": "2025-06-04T11:20:05.462863Z"
    }
   },
   "cell_type": "code",
   "source": [
    "#Top results\n",
    "results_df = pd.DataFrame(results)\n",
    "results_df.sort_values(by=\"silhouette_score\", ascending=False, inplace=True)\n",
    "print(results_df.head(10))"
   ],
   "id": "aa28abde58a21b1",
   "outputs": [
    {
     "name": "stdout",
     "output_type": "stream",
     "text": [
      "     n_neighbors  min_dist  min_cluster_size  min_samples  silhouette_score  num_clusters\n",
      "554           30      0.50                20           10          0.659556             2\n",
      "549           30      0.50                15           10          0.659556             2\n",
      "2              5      0.00                 5            5          0.624888            16\n",
      "484           30      0.10                 5           10          0.623449             4\n",
      "34             5      0.05                 7           10          0.611661             4\n",
      "38             5      0.05                10           10          0.611661             4\n",
      "41             5      0.05                15           10          0.611661             4\n",
      "43             5      0.05                20           10          0.611661             4\n",
      "29             5      0.05                 5           10          0.611661             4\n",
      "244           10      0.50                 7           10          0.601908             4\n"
     ]
    }
   ],
   "execution_count": 23
  },
  {
   "metadata": {},
   "cell_type": "markdown",
   "source": "I will select parameters with 16 clusters because 2 feel too few to identify meaningful groupings.",
   "id": "d8aaaa1f97214382"
  },
  {
   "metadata": {},
   "cell_type": "markdown",
   "source": "### HDBSCAN v2",
   "id": "ec7d112b6183f295"
  },
  {
   "metadata": {
    "ExecuteTime": {
     "end_time": "2025-06-04T11:20:12.371581Z",
     "start_time": "2025-06-04T11:20:12.227924Z"
    }
   },
   "cell_type": "code",
   "source": [
    "#Rerunning model with optimal parameters\n",
    "umap_model = umap.UMAP(n_neighbors=5, min_dist=0.0, random_state=42)\n",
    "umap_embedding = umap_model.fit_transform(X_scaled)\n",
    "\n",
    "# Add UMAP results to dataframe\n",
    "df[\"umap_1\"] = umap_embedding[:, 0]\n",
    "df[\"umap_2\"] = umap_embedding[:, 1]\n"
   ],
   "id": "d476b5945c843dc9",
   "outputs": [],
   "execution_count": 24
  },
  {
   "metadata": {
    "ExecuteTime": {
     "end_time": "2025-06-04T11:20:14.128731Z",
     "start_time": "2025-06-04T11:20:14.117020Z"
    }
   },
   "cell_type": "code",
   "source": [
    "model = hdbscan.HDBSCAN(min_cluster_size=5, min_samples=5)\n",
    "cluster_labels = model.fit_predict(umap_embedding)\n",
    "\n",
    "#Adding cluster labels\n",
    "df[\"umap_cluster\"] = cluster_labels"
   ],
   "id": "7a423219acff85fc",
   "outputs": [],
   "execution_count": 25
  },
  {
   "metadata": {
    "ExecuteTime": {
     "end_time": "2025-06-02T18:21:31.702377Z",
     "start_time": "2025-06-02T18:21:31.593484Z"
    }
   },
   "cell_type": "code",
   "source": [
    "#Plotting clusters\n",
    "plt.figure(figsize=(8, 8))\n",
    "sns.scatterplot(data=df, x=\"umap_1\", y=\"umap_2\", hue=\"umap_cluster\", palette=\"tab10\", alpha=0.7)\n",
    "\n",
    "plt.title(\"UMAP + HDBSCAN Clusters\")\n",
    "plt.legend(title=\"Cluster\", bbox_to_anchor=(1.05, 1), loc=\"upper left\")\n",
    "plt.tight_layout()\n",
    "plt.show()\n"
   ],
   "id": "87b914de8733ef09",
   "outputs": [
    {
     "data": {
      "text/plain": [
       "<Figure size 800x800 with 1 Axes>"
      ],
      "image/png": "[encoded data removed]"
     },
     "metadata": {},
     "output_type": "display_data"
    }
   ],
   "execution_count": 56
  },
  {
   "metadata": {
    "ExecuteTime": {
     "end_time": "2025-06-02T18:47:58.505683Z",
     "start_time": "2025-06-02T18:47:58.488578Z"
    }
   },
   "cell_type": "code",
   "source": [
    "#Checking clusters\n",
    "print(df[\"umap_cluster\"].value_counts())"
   ],
   "id": "b58cca0397b0c28e",
   "outputs": [
    {
     "name": "stdout",
     "output_type": "stream",
     "text": [
      "umap_cluster\n",
      " 1     32\n",
      "-1     30\n",
      " 7     21\n",
      " 13    17\n",
      " 8     16\n",
      " 12    14\n",
      " 10    10\n",
      " 0     10\n",
      " 3      9\n",
      " 15     8\n",
      " 4      8\n",
      " 5      8\n",
      " 11     8\n",
      " 14     7\n",
      " 2      7\n",
      " 9      6\n",
      " 6      5\n",
      "Name: count, dtype: int64\n"
     ]
    }
   ],
   "execution_count": 79
  },
  {
   "metadata": {},
   "cell_type": "markdown",
   "source": [
    "The clusters are now much more evenly spread, and the groupings are logical.\n",
    "\n",
    "Next, I will analyse the clusters to inform the final shortlist."
   ],
   "id": "4a4f361306d68388"
  },
  {
   "metadata": {
    "ExecuteTime": {
     "end_time": "2025-06-02T18:31:24.753133Z",
     "start_time": "2025-06-02T18:31:24.725316Z"
    }
   },
   "cell_type": "code",
   "source": [
    "#Select key metrics\n",
    "key_metrics = [\"goals_per_ninety\", \"shots_on_target_per_ninety\",\n",
    "               \"non_pen_xg_per_ninety\", \"progressive_runs_per_ninety\", \"touches_in_pen_per_ninety\",\n",
    "               \"aerial_duels_won_per_ninety\", \"xa_per_ninety\", \"goals_per_sot\",\n",
    "               \"goals_minus_exp_goals\"\n",
    "               ]\n",
    "\n",
    "#Group and describe\n",
    "cluster_profiles = df.groupby(\"umap_cluster\")[key_metrics].median().round(2)\n",
    "print(cluster_profiles)"
   ],
   "id": "12895931f71e0df4",
   "outputs": [
    {
     "name": "stdout",
     "output_type": "stream",
     "text": [
      "              goals_per_ninety  shots_on_target_per_ninety  non_pen_xg_per_ninety  progressive_runs_per_ninety  touches_in_pen_per_ninety  \\\n",
      "umap_cluster                                                                                                                                \n",
      "-1                        0.32                        0.93                   0.26                         7.58                       3.86   \n",
      " 0                        0.41                        1.25                   0.49                         6.76                       5.86   \n",
      " 1                        0.75                        1.35                   0.57                         5.88                       6.11   \n",
      " 2                        0.36                        0.98                   0.31                         5.44                       3.82   \n",
      " 3                        0.36                        0.56                   0.23                         4.31                       3.43   \n",
      " 4                        0.46                        0.79                   0.35                         6.71                       4.81   \n",
      " 5                        0.29                        0.91                   0.26                         7.88                       5.33   \n",
      " 6                        0.38                        0.81                   0.18                         9.44                       6.21   \n",
      " 7                        0.38                        0.88                   0.34                         4.76                       4.51   \n",
      " 8                        0.40                        1.00                   0.27                         4.79                       3.75   \n",
      " 9                        0.32                        1.11                   0.28                         7.31                       4.64   \n",
      " 10                       0.54                        1.25                   0.47                        11.86                       6.80   \n",
      " 11                       0.33                        1.13                   0.30                        11.00                       5.84   \n",
      " 12                       0.57                        1.17                   0.28                         7.02                       4.65   \n",
      " 13                       0.33                        0.78                   0.18                         7.37                       3.40   \n",
      " 14                       0.32                        0.76                   0.26                         5.43                       4.06   \n",
      " 15                       0.25                        0.81                   0.26                         5.95                       3.70   \n",
      "\n",
      "              aerial_duels_won_per_ninety  xa_per_ninety  goals_per_sot  goals_minus_exp_goals  \n",
      "umap_cluster                                                                                    \n",
      "-1                                   0.68           0.15           0.37                   0.90  \n",
      " 0                                   1.64           0.14           0.33                  -2.55  \n",
      " 1                                   1.60           0.13           0.52                   1.50  \n",
      " 2                                   0.65           0.14           0.39                  -0.10  \n",
      " 3                                   1.18           0.09           0.69                   1.60  \n",
      " 4                                   0.48           0.17           0.58                   0.45  \n",
      " 5                                   0.61           0.27           0.30                  -1.00  \n",
      " 6                                   0.38           0.23           0.38                   3.30  \n",
      " 7                                   3.37           0.09           0.44                   0.10  \n",
      " 8                                   2.20           0.08           0.40                   2.30  \n",
      " 9                                   0.77           0.11           0.32                   1.30  \n",
      " 10                                  0.35           0.31           0.45                   0.90  \n",
      " 11                                  0.42           0.39           0.32                   0.75  \n",
      " 12                                  0.48           0.18           0.46                   4.95  \n",
      " 13                                  0.41           0.17           0.48                   2.80  \n",
      " 14                                  0.27           0.28           0.41                   0.40  \n",
      " 15                                  0.41           0.15           0.31                  -1.80  \n"
     ]
    }
   ],
   "execution_count": 67
  },
  {
   "metadata": {},
   "cell_type": "markdown",
   "source": "Cluster 1 appears to contain the most elite group of goalscorers with top results across key goal scoring metrics. I will explore this group further.",
   "id": "c35706912506aa90"
  },
  {
   "metadata": {},
   "cell_type": "markdown",
   "source": "### Final filters and sorting",
   "id": "b29cd9f3661b8a15"
  },
  {
   "metadata": {
    "ExecuteTime": {
     "end_time": "2025-06-02T18:55:04.591535Z",
     "start_time": "2025-06-02T18:55:04.563164Z"
    }
   },
   "cell_type": "code",
   "source": [
    "#Defining top players to label\n",
    "top_strikers = df[df[\"umap_cluster\"] == 1].sort_values(\"goals_per_ninety\", ascending=False)\n",
    "print(top_strikers[[\"name\", \"age\", \"club\", \"goals_per_ninety\"\n",
    "              ]].head(10))"
   ],
   "id": "cce39ce4f19fea0a",
   "outputs": [
    {
     "name": "stdout",
     "output_type": "stream",
     "text": [
      "                   name   age             club  goals_per_ninety\n",
      "11    Alexander Sørloth  29.0  Atlético Madrid          1.149425\n",
      "171       Patrik Schick  29.0       Leverkusen          1.122995\n",
      "169     Ousmane Dembélé  28.0        Paris S-G          1.093750\n",
      "88           Harry Kane  31.0    Bayern Munich          0.981132\n",
      "122       Kylian Mbappé  26.0      Real Madrid          0.959752\n",
      "152        Mika Biereth  22.0           Monaco          0.955882\n",
      "146       Mateo Retegui  26.0         Atalanta          0.943396\n",
      "47     Cristhian Stuani  38.0           Girona          0.916667\n",
      "184  Robert Lewandowski  36.0        Barcelona          0.912162\n",
      "29          Ayoze Pérez  31.0       Villarreal          0.867580\n"
     ]
    }
   ],
   "execution_count": 86
  },
  {
   "metadata": {},
   "cell_type": "markdown",
   "source": "The model has successfully identified a group of elite strikers. I will organize this group and apply final filters to establish a shortlist.",
   "id": "b39f5288e126c661"
  },
  {
   "metadata": {
    "ExecuteTime": {
     "end_time": "2025-06-02T18:52:54.826150Z",
     "start_time": "2025-06-02T18:52:54.812613Z"
    }
   },
   "cell_type": "code",
   "source": [
    "#Creating shortlist based on goal efficiency and filtering by age\n",
    "shortlist = top_strikers[top_strikers[\"age\"] < 29].sort_values(\"goals_minus_exp_goals\", ascending=False)\n",
    "\n",
    "#Keeping the top 10 players\n",
    "arsenal_targets = shortlist[\n",
    "    [\"name\", \"club\", \"goals_scored\", \"goals_minus_exp_goals\", \"goals_per_ninety\", \"shots_on_target_per_ninety\", \"goals_per_sot\",\n",
    "     \"non_pen_xg_per_ninety\"]].head(10)\n",
    "print(arsenal_targets)"
   ],
   "id": "22ee0029220422e8",
   "outputs": [
    {
     "name": "stdout",
     "output_type": "stream",
     "text": [
      "                  name           club  goals_scored  goals_minus_exp_goals  goals_per_ninety  shots_on_target_per_ninety  goals_per_sot  non_pen_xg_per_ninety\n",
      "146      Mateo Retegui       Atalanta            25                    6.1          0.943396                    1.207547       0.781250               0.562264\n",
      "122      Kylian Mbappé    Real Madrid            31                    5.1          0.959752                    2.321981       0.413333               0.575851\n",
      "169    Ousmane Dembélé      Paris S-G            21                    4.4          1.093750                    2.552083       0.428571               0.822917\n",
      "141      Marcus Thuram          Inter            14                    4.1          0.551181                    1.062992       0.518519               0.389764\n",
      "51           Dani Olmo      Barcelona            10                    3.5          0.740741                    1.111111       0.666667               0.362963\n",
      "107  Jonathan Burkardt       Mainz 05            18                    3.2          0.769231                    1.196581       0.642857               0.564103\n",
      "10      Alexander Isak  Newcastle Utd            23                    2.7          0.751634                    1.339869       0.560976               0.562092\n",
      "75       Ferrán Torres      Barcelona            10                    2.0          0.813008                    1.788618       0.454545               0.650407\n",
      "162     Nick Woltemade      Stuttgart            12                    1.8          0.666667                    1.277778       0.521739               0.444444\n",
      "152       Mika Biereth         Monaco            13                    1.7          0.955882                    1.617647       0.590909               0.713235\n"
     ]
    }
   ],
   "execution_count": 84
  },
  {
   "metadata": {
    "ExecuteTime": {
     "end_time": "2025-06-04T11:26:35.369480Z",
     "start_time": "2025-06-04T11:26:35.352102Z"
    }
   },
   "cell_type": "code",
   "source": [
    "#Saving the model for future use\n",
    "import pickle\n",
    "import os\n",
    "\n",
    "#defining a location to save the model\n",
    "pickle_dir = \"/Users/dan/PycharmProjects/Arsenal-Striker-Scouting/model\"\n",
    "model_filename = \"final_model.pkl\"\n",
    "\n",
    "#Constructing the full file path\n",
    "pickle_path = os.path.join(pickle_dir, model_filename)\n",
    "\n",
    "#Saving the model\n",
    "with open(pickle_path, 'wb') as f:\n",
    "    pickle.dump(model, f)\n",
    "\n",
    "print(f\"model saved as pickle file at: {pickle_path}\")"
   ],
   "id": "337a4f10c3456e20",
   "outputs": [
    {
     "name": "stdout",
     "output_type": "stream",
     "text": [
      "model saved as pickle file at: /Users/dan/PycharmProjects/Arsenal-Striker-Scouting/model/final_model.pkl\n"
     ]
    }
   ],
   "execution_count": 26
  }
 ],
 "metadata": {
  "kernelspec": {
   "display_name": "Python 3",
   "language": "python",
   "name": "python3"
  },
  "language_info": {
   "codemirror_mode": {
    "name": "ipython",
    "version": 2
   },
   "file_extension": ".py",
   "mimetype": "text/x-python",
   "name": "python",
   "nbconvert_exporter": "python",
   "pygments_lexer": "ipython2",
   "version": "2.7.6"
  }
 },
 "nbformat": 4,
 "nbformat_minor": 5
}
